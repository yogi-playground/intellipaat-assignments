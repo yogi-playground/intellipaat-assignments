{
  "nbformat": 4,
  "nbformat_minor": 0,
  "metadata": {
    "colab": {
      "provenance": []
    },
    "kernelspec": {
      "name": "python3",
      "display_name": "Python 3"
    },
    "language_info": {
      "name": "python"
    }
  },
  "cells": [
    {
      "cell_type": "markdown",
      "source": [
        "#Module 8: Linear Regression Assignment\n",
        "Problem Statement:\n",
        "\n",
        "You work in XYZ Company as a Python Data Scientist. The company officials\n",
        "have collected some data on salaries based on year of experience and wish for\n",
        "you to create a model from it.\n",
        "\n",
        "Dataset: Salary data.csv\n",
        "\n",
        "Tasks To Be Performed:\n",
        "1. Load the dataset using pandas\n",
        "2. Extract data from years experience column is a variable named X\n",
        "3. Extract data from the salary column is a variable named Y\n",
        "4. Divide the dataset into two parts for training and testing in 66% and 33%\n",
        "proportion\n",
        "5. Create and train Linear Regression Model on training set\n",
        "6. Make predictions based on the testing set using the trained model\n",
        "7. Check the performance by calculating the r2 score of the model"
      ],
      "metadata": {
        "id": "zwXl2OTSAltb"
      }
    },
    {
      "cell_type": "code",
      "execution_count": 1,
      "metadata": {
        "id": "sQeeI41lDFPe"
      },
      "outputs": [],
      "source": [
        "import pandas as pd\n",
        "import numpy as np"
      ]
    },
    {
      "cell_type": "code",
      "source": [
        "#1. Load the dataset using pandas\n",
        "df=pd.read_csv('/content/drive/MyDrive/Colab Notebooks/Dataset/Assignment/Module 8/Salary data.csv')"
      ],
      "metadata": {
        "id": "UgtaufrFEWsh"
      },
      "execution_count": 2,
      "outputs": []
    },
    {
      "cell_type": "code",
      "source": [
        "df.head()"
      ],
      "metadata": {
        "colab": {
          "base_uri": "https://localhost:8080/",
          "height": 206
        },
        "id": "WKg8O_S3EcDj",
        "outputId": "7d3746cc-0d5e-4ac2-f2f4-c352bdd3ffc0"
      },
      "execution_count": 3,
      "outputs": [
        {
          "output_type": "execute_result",
          "data": {
            "text/plain": [
              "   YearsExperience   Salary\n",
              "0              1.1  39343.0\n",
              "1              1.3  46205.0\n",
              "2              1.5  37731.0\n",
              "3              2.0  43525.0\n",
              "4              2.2  39891.0"
            ],
            "text/html": [
              "\n",
              "  <div id=\"df-b54bb76d-f32c-4f13-a7c2-09bf9f7b3342\" class=\"colab-df-container\">\n",
              "    <div>\n",
              "<style scoped>\n",
              "    .dataframe tbody tr th:only-of-type {\n",
              "        vertical-align: middle;\n",
              "    }\n",
              "\n",
              "    .dataframe tbody tr th {\n",
              "        vertical-align: top;\n",
              "    }\n",
              "\n",
              "    .dataframe thead th {\n",
              "        text-align: right;\n",
              "    }\n",
              "</style>\n",
              "<table border=\"1\" class=\"dataframe\">\n",
              "  <thead>\n",
              "    <tr style=\"text-align: right;\">\n",
              "      <th></th>\n",
              "      <th>YearsExperience</th>\n",
              "      <th>Salary</th>\n",
              "    </tr>\n",
              "  </thead>\n",
              "  <tbody>\n",
              "    <tr>\n",
              "      <th>0</th>\n",
              "      <td>1.1</td>\n",
              "      <td>39343.0</td>\n",
              "    </tr>\n",
              "    <tr>\n",
              "      <th>1</th>\n",
              "      <td>1.3</td>\n",
              "      <td>46205.0</td>\n",
              "    </tr>\n",
              "    <tr>\n",
              "      <th>2</th>\n",
              "      <td>1.5</td>\n",
              "      <td>37731.0</td>\n",
              "    </tr>\n",
              "    <tr>\n",
              "      <th>3</th>\n",
              "      <td>2.0</td>\n",
              "      <td>43525.0</td>\n",
              "    </tr>\n",
              "    <tr>\n",
              "      <th>4</th>\n",
              "      <td>2.2</td>\n",
              "      <td>39891.0</td>\n",
              "    </tr>\n",
              "  </tbody>\n",
              "</table>\n",
              "</div>\n",
              "    <div class=\"colab-df-buttons\">\n",
              "\n",
              "  <div class=\"colab-df-container\">\n",
              "    <button class=\"colab-df-convert\" onclick=\"convertToInteractive('df-b54bb76d-f32c-4f13-a7c2-09bf9f7b3342')\"\n",
              "            title=\"Convert this dataframe to an interactive table.\"\n",
              "            style=\"display:none;\">\n",
              "\n",
              "  <svg xmlns=\"http://www.w3.org/2000/svg\" height=\"24px\" viewBox=\"0 -960 960 960\">\n",
              "    <path d=\"M120-120v-720h720v720H120Zm60-500h600v-160H180v160Zm220 220h160v-160H400v160Zm0 220h160v-160H400v160ZM180-400h160v-160H180v160Zm440 0h160v-160H620v160ZM180-180h160v-160H180v160Zm440 0h160v-160H620v160Z\"/>\n",
              "  </svg>\n",
              "    </button>\n",
              "\n",
              "  <style>\n",
              "    .colab-df-container {\n",
              "      display:flex;\n",
              "      gap: 12px;\n",
              "    }\n",
              "\n",
              "    .colab-df-convert {\n",
              "      background-color: #E8F0FE;\n",
              "      border: none;\n",
              "      border-radius: 50%;\n",
              "      cursor: pointer;\n",
              "      display: none;\n",
              "      fill: #1967D2;\n",
              "      height: 32px;\n",
              "      padding: 0 0 0 0;\n",
              "      width: 32px;\n",
              "    }\n",
              "\n",
              "    .colab-df-convert:hover {\n",
              "      background-color: #E2EBFA;\n",
              "      box-shadow: 0px 1px 2px rgba(60, 64, 67, 0.3), 0px 1px 3px 1px rgba(60, 64, 67, 0.15);\n",
              "      fill: #174EA6;\n",
              "    }\n",
              "\n",
              "    .colab-df-buttons div {\n",
              "      margin-bottom: 4px;\n",
              "    }\n",
              "\n",
              "    [theme=dark] .colab-df-convert {\n",
              "      background-color: #3B4455;\n",
              "      fill: #D2E3FC;\n",
              "    }\n",
              "\n",
              "    [theme=dark] .colab-df-convert:hover {\n",
              "      background-color: #434B5C;\n",
              "      box-shadow: 0px 1px 3px 1px rgba(0, 0, 0, 0.15);\n",
              "      filter: drop-shadow(0px 1px 2px rgba(0, 0, 0, 0.3));\n",
              "      fill: #FFFFFF;\n",
              "    }\n",
              "  </style>\n",
              "\n",
              "    <script>\n",
              "      const buttonEl =\n",
              "        document.querySelector('#df-b54bb76d-f32c-4f13-a7c2-09bf9f7b3342 button.colab-df-convert');\n",
              "      buttonEl.style.display =\n",
              "        google.colab.kernel.accessAllowed ? 'block' : 'none';\n",
              "\n",
              "      async function convertToInteractive(key) {\n",
              "        const element = document.querySelector('#df-b54bb76d-f32c-4f13-a7c2-09bf9f7b3342');\n",
              "        const dataTable =\n",
              "          await google.colab.kernel.invokeFunction('convertToInteractive',\n",
              "                                                    [key], {});\n",
              "        if (!dataTable) return;\n",
              "\n",
              "        const docLinkHtml = 'Like what you see? Visit the ' +\n",
              "          '<a target=\"_blank\" href=https://colab.research.google.com/notebooks/data_table.ipynb>data table notebook</a>'\n",
              "          + ' to learn more about interactive tables.';\n",
              "        element.innerHTML = '';\n",
              "        dataTable['output_type'] = 'display_data';\n",
              "        await google.colab.output.renderOutput(dataTable, element);\n",
              "        const docLink = document.createElement('div');\n",
              "        docLink.innerHTML = docLinkHtml;\n",
              "        element.appendChild(docLink);\n",
              "      }\n",
              "    </script>\n",
              "  </div>\n",
              "\n",
              "\n",
              "<div id=\"df-aede3c37-3c53-4632-a122-e163647936dc\">\n",
              "  <button class=\"colab-df-quickchart\" onclick=\"quickchart('df-aede3c37-3c53-4632-a122-e163647936dc')\"\n",
              "            title=\"Suggest charts\"\n",
              "            style=\"display:none;\">\n",
              "\n",
              "<svg xmlns=\"http://www.w3.org/2000/svg\" height=\"24px\"viewBox=\"0 0 24 24\"\n",
              "     width=\"24px\">\n",
              "    <g>\n",
              "        <path d=\"M19 3H5c-1.1 0-2 .9-2 2v14c0 1.1.9 2 2 2h14c1.1 0 2-.9 2-2V5c0-1.1-.9-2-2-2zM9 17H7v-7h2v7zm4 0h-2V7h2v10zm4 0h-2v-4h2v4z\"/>\n",
              "    </g>\n",
              "</svg>\n",
              "  </button>\n",
              "\n",
              "<style>\n",
              "  .colab-df-quickchart {\n",
              "      --bg-color: #E8F0FE;\n",
              "      --fill-color: #1967D2;\n",
              "      --hover-bg-color: #E2EBFA;\n",
              "      --hover-fill-color: #174EA6;\n",
              "      --disabled-fill-color: #AAA;\n",
              "      --disabled-bg-color: #DDD;\n",
              "  }\n",
              "\n",
              "  [theme=dark] .colab-df-quickchart {\n",
              "      --bg-color: #3B4455;\n",
              "      --fill-color: #D2E3FC;\n",
              "      --hover-bg-color: #434B5C;\n",
              "      --hover-fill-color: #FFFFFF;\n",
              "      --disabled-bg-color: #3B4455;\n",
              "      --disabled-fill-color: #666;\n",
              "  }\n",
              "\n",
              "  .colab-df-quickchart {\n",
              "    background-color: var(--bg-color);\n",
              "    border: none;\n",
              "    border-radius: 50%;\n",
              "    cursor: pointer;\n",
              "    display: none;\n",
              "    fill: var(--fill-color);\n",
              "    height: 32px;\n",
              "    padding: 0;\n",
              "    width: 32px;\n",
              "  }\n",
              "\n",
              "  .colab-df-quickchart:hover {\n",
              "    background-color: var(--hover-bg-color);\n",
              "    box-shadow: 0 1px 2px rgba(60, 64, 67, 0.3), 0 1px 3px 1px rgba(60, 64, 67, 0.15);\n",
              "    fill: var(--button-hover-fill-color);\n",
              "  }\n",
              "\n",
              "  .colab-df-quickchart-complete:disabled,\n",
              "  .colab-df-quickchart-complete:disabled:hover {\n",
              "    background-color: var(--disabled-bg-color);\n",
              "    fill: var(--disabled-fill-color);\n",
              "    box-shadow: none;\n",
              "  }\n",
              "\n",
              "  .colab-df-spinner {\n",
              "    border: 2px solid var(--fill-color);\n",
              "    border-color: transparent;\n",
              "    border-bottom-color: var(--fill-color);\n",
              "    animation:\n",
              "      spin 1s steps(1) infinite;\n",
              "  }\n",
              "\n",
              "  @keyframes spin {\n",
              "    0% {\n",
              "      border-color: transparent;\n",
              "      border-bottom-color: var(--fill-color);\n",
              "      border-left-color: var(--fill-color);\n",
              "    }\n",
              "    20% {\n",
              "      border-color: transparent;\n",
              "      border-left-color: var(--fill-color);\n",
              "      border-top-color: var(--fill-color);\n",
              "    }\n",
              "    30% {\n",
              "      border-color: transparent;\n",
              "      border-left-color: var(--fill-color);\n",
              "      border-top-color: var(--fill-color);\n",
              "      border-right-color: var(--fill-color);\n",
              "    }\n",
              "    40% {\n",
              "      border-color: transparent;\n",
              "      border-right-color: var(--fill-color);\n",
              "      border-top-color: var(--fill-color);\n",
              "    }\n",
              "    60% {\n",
              "      border-color: transparent;\n",
              "      border-right-color: var(--fill-color);\n",
              "    }\n",
              "    80% {\n",
              "      border-color: transparent;\n",
              "      border-right-color: var(--fill-color);\n",
              "      border-bottom-color: var(--fill-color);\n",
              "    }\n",
              "    90% {\n",
              "      border-color: transparent;\n",
              "      border-bottom-color: var(--fill-color);\n",
              "    }\n",
              "  }\n",
              "</style>\n",
              "\n",
              "  <script>\n",
              "    async function quickchart(key) {\n",
              "      const quickchartButtonEl =\n",
              "        document.querySelector('#' + key + ' button');\n",
              "      quickchartButtonEl.disabled = true;  // To prevent multiple clicks.\n",
              "      quickchartButtonEl.classList.add('colab-df-spinner');\n",
              "      try {\n",
              "        const charts = await google.colab.kernel.invokeFunction(\n",
              "            'suggestCharts', [key], {});\n",
              "      } catch (error) {\n",
              "        console.error('Error during call to suggestCharts:', error);\n",
              "      }\n",
              "      quickchartButtonEl.classList.remove('colab-df-spinner');\n",
              "      quickchartButtonEl.classList.add('colab-df-quickchart-complete');\n",
              "    }\n",
              "    (() => {\n",
              "      let quickchartButtonEl =\n",
              "        document.querySelector('#df-aede3c37-3c53-4632-a122-e163647936dc button');\n",
              "      quickchartButtonEl.style.display =\n",
              "        google.colab.kernel.accessAllowed ? 'block' : 'none';\n",
              "    })();\n",
              "  </script>\n",
              "</div>\n",
              "\n",
              "    </div>\n",
              "  </div>\n"
            ],
            "application/vnd.google.colaboratory.intrinsic+json": {
              "type": "dataframe",
              "variable_name": "df",
              "summary": "{\n  \"name\": \"df\",\n  \"rows\": 30,\n  \"fields\": [\n    {\n      \"column\": \"YearsExperience\",\n      \"properties\": {\n        \"dtype\": \"number\",\n        \"std\": 2.8378881576627184,\n        \"min\": 1.1,\n        \"max\": 10.5,\n        \"num_unique_values\": 28,\n        \"samples\": [\n          3.9,\n          9.6,\n          3.7\n        ],\n        \"semantic_type\": \"\",\n        \"description\": \"\"\n      }\n    },\n    {\n      \"column\": \"Salary\",\n      \"properties\": {\n        \"dtype\": \"number\",\n        \"std\": 27414.4297845823,\n        \"min\": 37731.0,\n        \"max\": 122391.0,\n        \"num_unique_values\": 30,\n        \"samples\": [\n          112635.0,\n          67938.0,\n          113812.0\n        ],\n        \"semantic_type\": \"\",\n        \"description\": \"\"\n      }\n    }\n  ]\n}"
            }
          },
          "metadata": {},
          "execution_count": 3
        }
      ]
    },
    {
      "cell_type": "code",
      "source": [
        "#2. Extract data from years experience column is a variable named X\n",
        "# This line extracts the 'YearsExperience' column as a NumPy array and then reshapes it into a 2D array with one column.\n",
        "# This is the format that scikit-learn's LinearRegression model expects for the input features.\n",
        "# It's crucial for the model to understand that the input data has one feature (YearsExperience) and multiple samples.\n",
        "\n",
        "X=df['YearsExperience'].values.reshape(-1, 1)\n",
        "print(X)"
      ],
      "metadata": {
        "colab": {
          "base_uri": "https://localhost:8080/"
        },
        "id": "V7z0XmGCEbR2",
        "outputId": "27606a96-5264-4365-d3e9-a19089c62844"
      },
      "execution_count": 5,
      "outputs": [
        {
          "output_type": "stream",
          "name": "stdout",
          "text": [
            "[[ 1.1]\n",
            " [ 1.3]\n",
            " [ 1.5]\n",
            " [ 2. ]\n",
            " [ 2.2]\n",
            " [ 2.9]\n",
            " [ 3. ]\n",
            " [ 3.2]\n",
            " [ 3.2]\n",
            " [ 3.7]\n",
            " [ 3.9]\n",
            " [ 4. ]\n",
            " [ 4. ]\n",
            " [ 4.1]\n",
            " [ 4.5]\n",
            " [ 4.9]\n",
            " [ 5.1]\n",
            " [ 5.3]\n",
            " [ 5.9]\n",
            " [ 6. ]\n",
            " [ 6.8]\n",
            " [ 7.1]\n",
            " [ 7.9]\n",
            " [ 8.2]\n",
            " [ 8.7]\n",
            " [ 9. ]\n",
            " [ 9.5]\n",
            " [ 9.6]\n",
            " [10.3]\n",
            " [10.5]]\n"
          ]
        }
      ]
    },
    {
      "cell_type": "code",
      "source": [
        "#3. Extract data from the salary column is a variable named Y\n",
        "Y=df['Salary']\n",
        "Y.head()"
      ],
      "metadata": {
        "colab": {
          "base_uri": "https://localhost:8080/",
          "height": 241
        },
        "id": "dUYrLJVfzz6D",
        "outputId": "a5faf0fb-6611-4001-eb10-4335560bcb5f"
      },
      "execution_count": 6,
      "outputs": [
        {
          "output_type": "execute_result",
          "data": {
            "text/plain": [
              "0    39343.0\n",
              "1    46205.0\n",
              "2    37731.0\n",
              "3    43525.0\n",
              "4    39891.0\n",
              "Name: Salary, dtype: float64"
            ],
            "text/html": [
              "<div>\n",
              "<style scoped>\n",
              "    .dataframe tbody tr th:only-of-type {\n",
              "        vertical-align: middle;\n",
              "    }\n",
              "\n",
              "    .dataframe tbody tr th {\n",
              "        vertical-align: top;\n",
              "    }\n",
              "\n",
              "    .dataframe thead th {\n",
              "        text-align: right;\n",
              "    }\n",
              "</style>\n",
              "<table border=\"1\" class=\"dataframe\">\n",
              "  <thead>\n",
              "    <tr style=\"text-align: right;\">\n",
              "      <th></th>\n",
              "      <th>Salary</th>\n",
              "    </tr>\n",
              "  </thead>\n",
              "  <tbody>\n",
              "    <tr>\n",
              "      <th>0</th>\n",
              "      <td>39343.0</td>\n",
              "    </tr>\n",
              "    <tr>\n",
              "      <th>1</th>\n",
              "      <td>46205.0</td>\n",
              "    </tr>\n",
              "    <tr>\n",
              "      <th>2</th>\n",
              "      <td>37731.0</td>\n",
              "    </tr>\n",
              "    <tr>\n",
              "      <th>3</th>\n",
              "      <td>43525.0</td>\n",
              "    </tr>\n",
              "    <tr>\n",
              "      <th>4</th>\n",
              "      <td>39891.0</td>\n",
              "    </tr>\n",
              "  </tbody>\n",
              "</table>\n",
              "</div><br><label><b>dtype:</b> float64</label>"
            ]
          },
          "metadata": {},
          "execution_count": 6
        }
      ]
    },
    {
      "cell_type": "code",
      "source": [
        "#4. Divide the dataset into two parts for training and testing in 66% and 33% proportion\n",
        "\n",
        "from sklearn.model_selection import train_test_split\n",
        "X_train, X_test, Y_train, Y_test = train_test_split(X, Y, test_size=0.33, random_state=42)\n"
      ],
      "metadata": {
        "id": "Jd_d0kjw0tVt"
      },
      "execution_count": 7,
      "outputs": []
    },
    {
      "cell_type": "code",
      "source": [
        "# 5. Create and train Linear Regression Model on training set\n",
        "\n",
        "from sklearn.linear_model import LinearRegression\n",
        "regressor = LinearRegression()\n",
        "regressor.fit(X_train, Y_train)\n"
      ],
      "metadata": {
        "colab": {
          "base_uri": "https://localhost:8080/",
          "height": 75
        },
        "id": "rER4NFRk0xDp",
        "outputId": "bb4dc38b-6224-4ebb-d409-30ee04252856"
      },
      "execution_count": 8,
      "outputs": [
        {
          "output_type": "execute_result",
          "data": {
            "text/plain": [
              "LinearRegression()"
            ],
            "text/html": [
              "<style>#sk-container-id-1 {color: black;}#sk-container-id-1 pre{padding: 0;}#sk-container-id-1 div.sk-toggleable {background-color: white;}#sk-container-id-1 label.sk-toggleable__label {cursor: pointer;display: block;width: 100%;margin-bottom: 0;padding: 0.3em;box-sizing: border-box;text-align: center;}#sk-container-id-1 label.sk-toggleable__label-arrow:before {content: \"▸\";float: left;margin-right: 0.25em;color: #696969;}#sk-container-id-1 label.sk-toggleable__label-arrow:hover:before {color: black;}#sk-container-id-1 div.sk-estimator:hover label.sk-toggleable__label-arrow:before {color: black;}#sk-container-id-1 div.sk-toggleable__content {max-height: 0;max-width: 0;overflow: hidden;text-align: left;background-color: #f0f8ff;}#sk-container-id-1 div.sk-toggleable__content pre {margin: 0.2em;color: black;border-radius: 0.25em;background-color: #f0f8ff;}#sk-container-id-1 input.sk-toggleable__control:checked~div.sk-toggleable__content {max-height: 200px;max-width: 100%;overflow: auto;}#sk-container-id-1 input.sk-toggleable__control:checked~label.sk-toggleable__label-arrow:before {content: \"▾\";}#sk-container-id-1 div.sk-estimator input.sk-toggleable__control:checked~label.sk-toggleable__label {background-color: #d4ebff;}#sk-container-id-1 div.sk-label input.sk-toggleable__control:checked~label.sk-toggleable__label {background-color: #d4ebff;}#sk-container-id-1 input.sk-hidden--visually {border: 0;clip: rect(1px 1px 1px 1px);clip: rect(1px, 1px, 1px, 1px);height: 1px;margin: -1px;overflow: hidden;padding: 0;position: absolute;width: 1px;}#sk-container-id-1 div.sk-estimator {font-family: monospace;background-color: #f0f8ff;border: 1px dotted black;border-radius: 0.25em;box-sizing: border-box;margin-bottom: 0.5em;}#sk-container-id-1 div.sk-estimator:hover {background-color: #d4ebff;}#sk-container-id-1 div.sk-parallel-item::after {content: \"\";width: 100%;border-bottom: 1px solid gray;flex-grow: 1;}#sk-container-id-1 div.sk-label:hover label.sk-toggleable__label {background-color: #d4ebff;}#sk-container-id-1 div.sk-serial::before {content: \"\";position: absolute;border-left: 1px solid gray;box-sizing: border-box;top: 0;bottom: 0;left: 50%;z-index: 0;}#sk-container-id-1 div.sk-serial {display: flex;flex-direction: column;align-items: center;background-color: white;padding-right: 0.2em;padding-left: 0.2em;position: relative;}#sk-container-id-1 div.sk-item {position: relative;z-index: 1;}#sk-container-id-1 div.sk-parallel {display: flex;align-items: stretch;justify-content: center;background-color: white;position: relative;}#sk-container-id-1 div.sk-item::before, #sk-container-id-1 div.sk-parallel-item::before {content: \"\";position: absolute;border-left: 1px solid gray;box-sizing: border-box;top: 0;bottom: 0;left: 50%;z-index: -1;}#sk-container-id-1 div.sk-parallel-item {display: flex;flex-direction: column;z-index: 1;position: relative;background-color: white;}#sk-container-id-1 div.sk-parallel-item:first-child::after {align-self: flex-end;width: 50%;}#sk-container-id-1 div.sk-parallel-item:last-child::after {align-self: flex-start;width: 50%;}#sk-container-id-1 div.sk-parallel-item:only-child::after {width: 0;}#sk-container-id-1 div.sk-dashed-wrapped {border: 1px dashed gray;margin: 0 0.4em 0.5em 0.4em;box-sizing: border-box;padding-bottom: 0.4em;background-color: white;}#sk-container-id-1 div.sk-label label {font-family: monospace;font-weight: bold;display: inline-block;line-height: 1.2em;}#sk-container-id-1 div.sk-label-container {text-align: center;}#sk-container-id-1 div.sk-container {/* jupyter's `normalize.less` sets `[hidden] { display: none; }` but bootstrap.min.css set `[hidden] { display: none !important; }` so we also need the `!important` here to be able to override the default hidden behavior on the sphinx rendered scikit-learn.org. See: https://github.com/scikit-learn/scikit-learn/issues/21755 */display: inline-block !important;position: relative;}#sk-container-id-1 div.sk-text-repr-fallback {display: none;}</style><div id=\"sk-container-id-1\" class=\"sk-top-container\"><div class=\"sk-text-repr-fallback\"><pre>LinearRegression()</pre><b>In a Jupyter environment, please rerun this cell to show the HTML representation or trust the notebook. <br />On GitHub, the HTML representation is unable to render, please try loading this page with nbviewer.org.</b></div><div class=\"sk-container\" hidden><div class=\"sk-item\"><div class=\"sk-estimator sk-toggleable\"><input class=\"sk-toggleable__control sk-hidden--visually\" id=\"sk-estimator-id-1\" type=\"checkbox\" checked><label for=\"sk-estimator-id-1\" class=\"sk-toggleable__label sk-toggleable__label-arrow\">LinearRegression</label><div class=\"sk-toggleable__content\"><pre>LinearRegression()</pre></div></div></div></div></div>"
            ]
          },
          "metadata": {},
          "execution_count": 8
        }
      ]
    },
    {
      "cell_type": "code",
      "source": [
        "#6. Make predictions based on the testing set using the trained model\n",
        "Y_test_pred = regressor.predict(X_test)\n",
        "print(Y_test_pred)"
      ],
      "metadata": {
        "colab": {
          "base_uri": "https://localhost:8080/"
        },
        "id": "NUJkxibA12aF",
        "outputId": "14a44bee-72d0-4917-dd7f-b6a313e27c81"
      },
      "execution_count": 9,
      "outputs": [
        {
          "output_type": "stream",
          "name": "stdout",
          "text": [
            "[115814.30756236  71511.92534771 102617.85328566  75282.34085534\n",
            "  55487.65944028  60200.67882482 122412.53470072 107330.8726702\n",
            "  63028.49045554  35692.97802523]\n"
          ]
        }
      ]
    },
    {
      "cell_type": "code",
      "source": [
        "# Check the performance by calculating the r2 score of the model\n",
        "\n",
        "from sklearn.metrics import r2_score\n",
        "test_r2=r2_score(Y_test, Y_test_pred)\n",
        "print(test_r2)\n",
        "\n",
        "# What is r2_score and why it is important?\n",
        "# The R-squared score is a statistical measure that represents the proportion of the variance for a dependent variable that's explained by an independent variable or variables in a regression model.\n",
        "# In other words, it tells you how well the model fits the data.\n",
        "# It ranges from 0 to 1, with 1 indicating a perfect fit.\n",
        "# It is an important metric for evaluating the performance of a regression model.\n",
        "# A higher R-squared value generally indicates a better fit, but it's not the only factor to consider.\n",
        "# It's important to consider the context of the data and the potential for overfitting."
      ],
      "metadata": {
        "colab": {
          "base_uri": "https://localhost:8080/"
        },
        "id": "dW4Libk_2YO5",
        "outputId": "448000c0-9d34-4af0-fe93-6d4edebf3823"
      },
      "execution_count": 10,
      "outputs": [
        {
          "output_type": "stream",
          "name": "stdout",
          "text": [
            "0.9553063138044949\n"
          ]
        }
      ]
    },
    {
      "cell_type": "code",
      "source": [
        "# How to find overfitting and underfitting?\n",
        "#overfitting\n",
        "# To check for overfitting, you can compare the model's performance on the training set and the test set.\n",
        "# If the model performs significantly better on the training set than on the test set, it might be overfitting.\n",
        "\n",
        "# Underfitting\n",
        "# Underfitting occurs when the model is too simple to capture the underlying patterns in the data.\n",
        "# It performs poorly on both the training and test sets.\n",
        "# To identify underfitting, check if the model's performance is poor on both the training and test sets.\n",
        "# If the R-squared values are low for both sets, it indicates underfitting.\n",
        "\n",
        "\n",
        "Y_train_pred = regressor.predict(X_train)\n",
        "train_r2 = r2_score(Y_train, Y_train_pred)\n",
        "\n",
        "print(\"Training R-squared:\", train_r2)\n",
        "print(\"Test R-squared:\",test_r2)\n",
        "\n",
        "# If the difference between the training and test R-squared values is large, it suggests overfitting.\n",
        "# If both values are low, it suggests underfitting.\n",
        "# To address underfitting, try using a more complex model, adding more features, or adjusting the model's parameters.\n"
      ],
      "metadata": {
        "colab": {
          "base_uri": "https://localhost:8080/"
        },
        "id": "c2K8r9uo3tfO",
        "outputId": "14e8ecda-f449-44e0-dd17-52ebdcabfc95"
      },
      "execution_count": 11,
      "outputs": [
        {
          "output_type": "stream",
          "name": "stdout",
          "text": [
            "Training R-squared: 0.9549236946181227\n",
            "Test R-squared: 0.9553063138044949\n"
          ]
        }
      ]
    },
    {
      "cell_type": "code",
      "source": [
        "# Example of overfitting - In Train Model have very good data as compare to Test\n",
        "train_r2 = 0.98\n",
        "test_r2 = 0.65\n",
        "\n",
        "print('Example of overfitting')\n",
        "print(\"     Training R-squared:\", train_r2)\n",
        "print(\"     Test R-squared:\",test_r2)\n",
        "\n",
        "# Example of underfitting - Model don't have enough data to predict well\n",
        "train_r2 = 0.5\n",
        "test_r2 = 0.4\n",
        "\n",
        "print('Example of underfitting')\n",
        "print(\"   Training R-squared:\", train_r2)\n",
        "print(\"   Test R-squared:\",test_r2)\n"
      ],
      "metadata": {
        "colab": {
          "base_uri": "https://localhost:8080/"
        },
        "id": "nZPUAgBv8OCL",
        "outputId": "0d0a0ba6-536b-443d-f5df-9980f5355a37"
      },
      "execution_count": 12,
      "outputs": [
        {
          "output_type": "stream",
          "name": "stdout",
          "text": [
            "Example of overfitting\n",
            "     Training R-squared: 0.98\n",
            "     Test R-squared: 0.65\n",
            "Example of underfitting\n",
            "   Training R-squared: 0.5\n",
            "   Test R-squared: 0.4\n"
          ]
        }
      ]
    },
    {
      "cell_type": "code",
      "source": [
        "# Why overfitting happend ?\n",
        "\n",
        "# Overfitting happens when a model learns the training data too well, including the noise and random fluctuations in the data.\n",
        "# This leads to a model that performs very well on the training data but poorly on new, unseen data.\n",
        "# Here are some reasons why overfitting occurs:\n",
        "\n",
        "# 1. Model Complexity:\n",
        "#    - Using a complex model with many parameters (e.g., a deep neural network with many layers) can lead to overfitting.\n",
        "#    - The model might learn to memorize the training data instead of generalizing to new data.\n",
        "\n",
        "# 2. Insufficient Data:\n",
        "#    - When the training dataset is small, the model may not be able to learn the underlying patterns effectively.\n",
        "#    - It might overemphasize the limited examples and fail to generalize to new data.\n",
        "\n",
        "# 3. Noise in Data:\n",
        "#    - If the training data contains noise or irrelevant features, the model might learn these irrelevant patterns, leading to overfitting.\n",
        "\n",
        "# 4. Lack of Regularization:\n",
        "#    - Regularization techniques, such as L1 or L2 regularization, help prevent overfitting by adding a penalty to the model's complexity.\n",
        "#    - Without regularization, the model can become too complex and overfit the training data.\n"
      ],
      "metadata": {
        "id": "PQ5EA0bi9Aqr"
      },
      "execution_count": 13,
      "outputs": []
    },
    {
      "cell_type": "code",
      "source": [
        "# A Funcation to Test and how model predilected salary\n",
        "def predict_salary(years_of_experience):\n",
        "  \"\"\"\n",
        "  Predicts the salary based on years of experience using the trained model.\n",
        "\n",
        "  Args:\n",
        "    years_of_experience: The number of years of experience.\n",
        "\n",
        "  Returns:\n",
        "    The predicted salary.\n",
        "  \"\"\"\n",
        "  # Reshape the input to match the model's expected input format\n",
        "  years_of_experience = np.array(years_of_experience).reshape(-1, 1)\n",
        "\n",
        "  # Make the prediction\n",
        "  predicted_salary = regressor.predict(years_of_experience)\n",
        "\n",
        "  return predicted_salary[0]\n"
      ],
      "metadata": {
        "id": "ykY4C35H1KhM"
      },
      "execution_count": 14,
      "outputs": []
    },
    {
      "cell_type": "code",
      "source": [
        "predict_salary(3)"
      ],
      "metadata": {
        "colab": {
          "base_uri": "https://localhost:8080/"
        },
        "id": "UJ3KHuMbgP08",
        "outputId": "2f7b0cbb-45eb-4f1c-f0d0-c817c09c64ca"
      },
      "execution_count": 23,
      "outputs": [
        {
          "output_type": "execute_result",
          "data": {
            "text/plain": [
              "53602.451686468834"
            ]
          },
          "metadata": {},
          "execution_count": 23
        }
      ]
    },
    {
      "cell_type": "code",
      "source": [
        "# Funcation to show How model predicting salary min and max range for a specific year experience\n",
        "\n",
        "def predict_salary_range(years_of_experience):\n",
        "  \"\"\"\n",
        "  Predicts the salary range (min and max) based on years of experience using the trained model.\n",
        "\n",
        "  Args:\n",
        "    years_of_experience: The number of years of experience.\n",
        "\n",
        "  Returns:\n",
        "    A tuple containing the predicted minimum and maximum salary.\n",
        "  \"\"\"\n",
        "  # Predict the salary using the existing model\n",
        "  predicted_salary = predict_salary(years_of_experience)\n",
        "\n",
        "  # Calculate the range (you can adjust the range calculation as needed)\n",
        "  min_salary = predicted_salary * 0.9  # Example: 10% lower\n",
        "  max_salary = predicted_salary * 1.1  # Example: 10% higher\n",
        "\n",
        "  return min_salary, max_salary\n",
        "\n",
        "# Example usage:\n",
        "years_of_experience = 15\n",
        "min_salary, max_salary = predict_salary_range(years_of_experience)\n",
        "print(f\"For {years_of_experience} years of experience, the predicted salary range is:\")\n",
        "print(f\"Minimum salary: {min_salary:.2f}\")\n",
        "print(f\"Maximum salary: {max_salary:.2f}\")\n"
      ],
      "metadata": {
        "colab": {
          "base_uri": "https://localhost:8080/"
        },
        "id": "TyCJbKeFgeU_",
        "outputId": "55f2a0f2-1d0a-49df-f592-bed088116d07"
      },
      "execution_count": 24,
      "outputs": [
        {
          "output_type": "stream",
          "name": "stdout",
          "text": [
            "For 15 years of experience, the predicted salary range is:\n",
            "Minimum salary: 150043.43\n",
            "Maximum salary: 183386.41\n"
          ]
        }
      ]
    },
    {
      "cell_type": "code",
      "source": [
        "# Apart from R-squared, what other metrics should be checked to validate the performance of a linear regression model?\n",
        "\n",
        "import numpy as np\n",
        "# Mean Absolute Error (MAE)\n",
        "from sklearn.metrics import mean_absolute_error\n",
        "mae = mean_absolute_error(Y_test, Y_test_pred)\n",
        "print(\"Mean Absolute Error (MAE):\", mae)\n",
        "\n",
        "# Mean Squared Error (MSE)\n",
        "from sklearn.metrics import mean_squared_error\n",
        "mse = mean_squared_error(Y_test, Y_test_pred)\n",
        "print(\"Mean Squared Error (MSE):\", mse)\n",
        "\n",
        "# Root Mean Squared Error (RMSE)\n",
        "rmse = np.sqrt(mse)\n",
        "print(\"Root Mean Squared Error (RMSE):\", rmse)\n",
        "\n",
        "# Residual Plots\n",
        "import matplotlib.pyplot as plt\n",
        "residuals = Y_test - Y_test_pred\n",
        "plt.scatter(Y_test_pred, residuals)\n",
        "plt.xlabel(\"Predicted Values\")\n",
        "plt.ylabel(\"Residuals\")\n",
        "plt.title(\"Residual Plot\")\n",
        "plt.show()\n",
        "\n",
        "# Check for Homoscedasticity\n",
        "# If the variance of the residuals is constant across all predicted values, then the model is homoscedastic.\n",
        "# If the variance of the residuals is not constant, then the model is heteroscedastic.\n",
        "\n",
        "# Check for Normality of Residuals\n",
        "# The residuals should be normally distributed.\n",
        "# You can use a histogram or a Q-Q plot to check for normality.\n",
        "\n",
        "# Check for Outliers\n",
        "# Outliers can have a significant impact on the model's performance.\n",
        "# You can use a box plot or a scatter plot to identify outliers.\n"
      ],
      "metadata": {
        "colab": {
          "base_uri": "https://localhost:8080/",
          "height": 524
        },
        "id": "m1SIckiHG3xi",
        "outputId": "ddb58f0f-6525-4ff7-ba2e-c56669a34953"
      },
      "execution_count": 18,
      "outputs": [
        {
          "output_type": "stream",
          "name": "stdout",
          "text": [
            "Mean Absolute Error (MAE): 4956.5232614449005\n",
            "Mean Squared Error (MSE): 35301898.887134895\n",
            "Root Mean Squared Error (RMSE): 5941.540110706558\n"
          ]
        },
        {
          "output_type": "display_data",
          "data": {
            "text/plain": [
              "<Figure size 640x480 with 1 Axes>"
            ],
            "image/png": "[encoded data removed]"
          },
          "metadata": {}
        }
      ]
    },
    {
      "cell_type": "code",
      "source": [
        "# Mean Absolute Error (MAE), Mean Squared Error, Root Mean Squared Error with sample data\n",
        "\n",
        "import numpy as np\n",
        "# Sample data\n",
        "actual_values = [10, 12, 15, 18, 20]\n",
        "predicted_values = [6, 11, 14, 17, 21]\n",
        "\n",
        "# Calculate Mean Absolute Error (MAE)\n",
        "mae = mean_absolute_error(actual_values, predicted_values)\n",
        "print(\"Mean Absolute Error (MAE):\", mae)\n",
        "\n",
        "# Explanation of MAE:\n",
        "# MAE measures the average absolute difference between the actual and predicted values.\n",
        "# It gives you an idea of how far off your predictions are on average.\n",
        "# In this example, the MAE is 0.6, indicating that, on average, the predictions are 0.6 units away from the actual values.\n",
        "\n",
        "# Calculate Mean Squared Error (MSE)\n",
        "mse = mean_squared_error(actual_values, predicted_values)\n",
        "print(\"Mean Squared Error (MSE):\", mse)\n",
        "\n",
        "# Explanation of MSE:\n",
        "# MSE calculates the average of the squared differences between the actual and predicted values.\n",
        "# Squaring the differences gives more weight to larger errors.\n",
        "# In this example, the MSE is 0.8, which represents the average squared difference between the actual and predicted values.\n",
        "\n",
        "# Calculate Root Mean Squared Error (RMSE)\n",
        "rmse = np.sqrt(mean_squared_error(actual_values, predicted_values))\n",
        "print(\"Root Mean Squared Error (RMSE):\", rmse)\n",
        "\n",
        "# Explanation of RMSE:\n",
        "# RMSE is the square root of the MSE. It provides a measure of the average error in the same units as the target variable.\n",
        "# It's often preferred over MSE because it's easier to interpret as it's in the same units as the original data.\n",
        "# In this example, the RMSE is approximately 0.9, indicating that the average error is about 0.9 units.\n"
      ],
      "metadata": {
        "colab": {
          "base_uri": "https://localhost:8080/"
        },
        "id": "l1y0BRcDHf_Y",
        "outputId": "6678ced1-6b0a-4c0f-d1c7-6b4fb2b8cb10"
      },
      "execution_count": 22,
      "outputs": [
        {
          "output_type": "stream",
          "name": "stdout",
          "text": [
            "Mean Absolute Error (MAE): 1.6\n",
            "Mean Squared Error (MSE): 4.0\n",
            "Root Mean Squared Error (RMSE): 2.0\n"
          ]
        }
      ]
    }
  ]
}