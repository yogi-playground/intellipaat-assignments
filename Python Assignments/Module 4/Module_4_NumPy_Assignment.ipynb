{
  "nbformat": 4,
  "nbformat_minor": 0,
  "metadata": {
    "colab": {
      "provenance": []
    },
    "kernelspec": {
      "name": "python3",
      "display_name": "Python 3"
    },
    "language_info": {
      "name": "python"
    }
  },
  "cells": [
    {
      "cell_type": "code",
      "execution_count": 1,
      "metadata": {
        "id": "4zP75x-Acmrw"
      },
      "outputs": [],
      "source": [
        "import numpy as np"
      ]
    },
    {
      "cell_type": "markdown",
      "source": [
        "1) For a given numpy array, how will you change the dimensions to 5 using the existing parameters in the numpy array.\n",
        "my_array = numpy.array([[[[1,3,4]]]])\n",
        "\n",
        "A. numpy.array(my_array, ndim= my_array.ndmin + 1)\n",
        "\n",
        "B. numpy.array(my_array, ndmin=5)\n",
        "\n",
        "C. numpy.array(my_array, ndim=5)\n",
        "\n",
        "D. numpy.array(my_array, ndim=1)"
      ],
      "metadata": {
        "id": "Hq5gfnZQdDrT"
      }
    },
    {
      "cell_type": "code",
      "source": [
        "my_array = np.array([[[[1,3,4]]]])\n",
        "my_array1= np.array(my_array, ndmin=5)\n",
        "my_array1.ndim"
      ],
      "metadata": {
        "colab": {
          "base_uri": "https://localhost:8080/"
        },
        "id": "7l865S_2dEy5",
        "outputId": "e497a9fd-6f1a-4329-b6d5-3ed87d701899"
      },
      "execution_count": 8,
      "outputs": [
        {
          "output_type": "execute_result",
          "data": {
            "text/plain": [
              "5"
            ]
          },
          "metadata": {},
          "execution_count": 8
        }
      ]
    },
    {
      "cell_type": "markdown",
      "source": [
        "2) For the given numpy arrays, Array1 and Array2, what will be the dot product for the same.\n",
        "Array1 = array([[1, 2, 3], [4, 5, 6]])\n",
        "Array2 = array([[2, 3],[3, 2]])\n",
        "\n",
        "A. None of the Above\n",
        "B. array([[ -9, 6, -1],[-12, 18, -7]])\n",
        "C. Valueerror\n",
        "D. Keyerror"
      ],
      "metadata": {
        "id": "llXKTtw7dwwe"
      }
    },
    {
      "cell_type": "code",
      "source": [
        "Array1 =np.array([[1, 2, 3], [4, 5, 6]])\n",
        "Array2 = np.array([[2, 3],[3, 2]])\n",
        "np.dot(Array1, Array2)"
      ],
      "metadata": {
        "colab": {
          "base_uri": "https://localhost:8080/",
          "height": 176
        },
        "id": "VZlN-oo6dwaO",
        "outputId": "6592ef7d-b50a-4e12-cd73-0b32e961c5d8"
      },
      "execution_count": 10,
      "outputs": [
        {
          "output_type": "error",
          "ename": "ValueError",
          "evalue": "shapes (2,3) and (2,2) not aligned: 3 (dim 1) != 2 (dim 0)",
          "traceback": [
            "\u001b[0;31m---------------------------------------------------------------------------\u001b[0m",
            "\u001b[0;31mValueError\u001b[0m                                Traceback (most recent call last)",
            "\u001b[0;32m<ipython-input-10-a320e648d3eb>\u001b[0m in \u001b[0;36m<cell line: 3>\u001b[0;34m()\u001b[0m\n\u001b[1;32m      1\u001b[0m \u001b[0mArray1\u001b[0m \u001b[0;34m=\u001b[0m\u001b[0mnp\u001b[0m\u001b[0;34m.\u001b[0m\u001b[0marray\u001b[0m\u001b[0;34m(\u001b[0m\u001b[0;34m[\u001b[0m\u001b[0;34m[\u001b[0m\u001b[0;36m1\u001b[0m\u001b[0;34m,\u001b[0m \u001b[0;36m2\u001b[0m\u001b[0;34m,\u001b[0m \u001b[0;36m3\u001b[0m\u001b[0;34m]\u001b[0m\u001b[0;34m,\u001b[0m \u001b[0;34m[\u001b[0m\u001b[0;36m4\u001b[0m\u001b[0;34m,\u001b[0m \u001b[0;36m5\u001b[0m\u001b[0;34m,\u001b[0m \u001b[0;36m6\u001b[0m\u001b[0;34m]\u001b[0m\u001b[0;34m]\u001b[0m\u001b[0;34m)\u001b[0m\u001b[0;34m\u001b[0m\u001b[0;34m\u001b[0m\u001b[0m\n\u001b[1;32m      2\u001b[0m \u001b[0mArray2\u001b[0m \u001b[0;34m=\u001b[0m \u001b[0mnp\u001b[0m\u001b[0;34m.\u001b[0m\u001b[0marray\u001b[0m\u001b[0;34m(\u001b[0m\u001b[0;34m[\u001b[0m\u001b[0;34m[\u001b[0m\u001b[0;36m2\u001b[0m\u001b[0;34m,\u001b[0m \u001b[0;36m3\u001b[0m\u001b[0;34m]\u001b[0m\u001b[0;34m,\u001b[0m\u001b[0;34m[\u001b[0m\u001b[0;36m3\u001b[0m\u001b[0;34m,\u001b[0m \u001b[0;36m2\u001b[0m\u001b[0;34m]\u001b[0m\u001b[0;34m]\u001b[0m\u001b[0;34m)\u001b[0m\u001b[0;34m\u001b[0m\u001b[0;34m\u001b[0m\u001b[0m\n\u001b[0;32m----> 3\u001b[0;31m \u001b[0mnp\u001b[0m\u001b[0;34m.\u001b[0m\u001b[0mdot\u001b[0m\u001b[0;34m(\u001b[0m\u001b[0mArray1\u001b[0m\u001b[0;34m,\u001b[0m \u001b[0mArray2\u001b[0m\u001b[0;34m)\u001b[0m\u001b[0;34m\u001b[0m\u001b[0;34m\u001b[0m\u001b[0m\n\u001b[0m",
            "\u001b[0;31mValueError\u001b[0m: shapes (2,3) and (2,2) not aligned: 3 (dim 1) != 2 (dim 0)"
          ]
        }
      ]
    },
    {
      "cell_type": "markdown",
      "source": [
        "3) In a given numpy array, using the slicing operations print the reverse of the array.\n",
        "\n",
        "array = np.array([10,3,1,203,404,204,20,302,30,402,192])\n",
        "\n",
        "A. array1[len(array1):0]\n",
        "\n",
        "B. array[::-1]\n",
        "\n",
        "C. array1[-1:-len(array1)]\n",
        "\n",
        "D. array[-1:0]"
      ],
      "metadata": {
        "id": "UIyRFb-BeFib"
      }
    },
    {
      "cell_type": "code",
      "source": [
        "array = np.array([10,3,1,203,404,204,20,302,30,402,192])\n",
        "print(array[::-1])"
      ],
      "metadata": {
        "colab": {
          "base_uri": "https://localhost:8080/"
        },
        "id": "6eu3EdAXeNW5",
        "outputId": "f0dba5ab-c4e6-4870-d453-781b0bf78830"
      },
      "execution_count": 11,
      "outputs": [
        {
          "output_type": "stream",
          "name": "stdout",
          "text": [
            "[192 402  30 302  20 204 404 203   1   3  10]\n"
          ]
        }
      ]
    },
    {
      "cell_type": "markdown",
      "source": [
        "4) What is the output of the below code:\n",
        "\n",
        " a = [[1, 0], [0, 1]]  b = [[4, 1], [2, 2]]  np.dot(a, b)\n",
        "\n",
        "A. None of the above\n",
        "\n",
        "B. array([[1, 1], [2, 2]])\n",
        "\n",
        "C. array([[4, 4],[2, 4]])\n",
        "\n",
        "D. array([[4, 1],[2, 2]])\n"
      ],
      "metadata": {
        "id": "QK4GpKnAeedX"
      }
    },
    {
      "cell_type": "code",
      "source": [
        " a = [[1, 0], [0, 1]]\n",
        " b = [[4, 1], [2, 2]]\n",
        " np.dot(a, b)"
      ],
      "metadata": {
        "colab": {
          "base_uri": "https://localhost:8080/"
        },
        "id": "GZ6VzW5selZM",
        "outputId": "cd40d85d-e5c2-4270-e350-fb4e550bbd21"
      },
      "execution_count": 12,
      "outputs": [
        {
          "output_type": "execute_result",
          "data": {
            "text/plain": [
              "array([[4, 1],\n",
              "       [2, 2]])"
            ]
          },
          "metadata": {},
          "execution_count": 12
        }
      ]
    },
    {
      "cell_type": "markdown",
      "source": [
        "5) What is the output of the following code:\n",
        "a = np.arange(3*4*5*6).reshape((3,4,5,6))\n",
        "b = np.arange(3*4*5*6)[::-1].reshape((5,4,6,3))\n",
        "np.dot(a, b)[2,3,2,1,2,2]\n",
        "\n",
        "A.499128\n",
        "\n",
        "B.909128\n",
        "\n",
        "C.399118\n",
        "\n",
        "D.Value Error\n"
      ],
      "metadata": {
        "id": "8BPjNZsheySk"
      }
    },
    {
      "cell_type": "code",
      "source": [
        "a = np.arange(3*4*5*6).reshape((3,4,5,6))\n",
        "b = np.arange(3*4*5*6)[::-1].reshape((5,4,6,3))\n",
        "np.dot(a, b)[2,3,2,1,2,2]"
      ],
      "metadata": {
        "colab": {
          "base_uri": "https://localhost:8080/"
        },
        "id": "l2lpz1Ojex_X",
        "outputId": "9b1ac831-5da2-4299-d26c-68ac8cab865e"
      },
      "execution_count": 13,
      "outputs": [
        {
          "output_type": "execute_result",
          "data": {
            "text/plain": [
              "499128"
            ]
          },
          "metadata": {},
          "execution_count": 13
        }
      ]
    },
    {
      "cell_type": "markdown",
      "source": [
        "6) What will be output for the following code?\n",
        "import numpy as np\n",
        "a = np.array([3, 7, 32], dtype = complex)\n",
        "print(a)\n",
        "\n",
        "A. [ 3.0+0.j 7.0+0.j 32.0+0.j]\n",
        "\n",
        "B. [ 3.+0.j 7.+0.j 32.+0.j]\n",
        "\n",
        "C. Error\n",
        "\n",
        "D. [ 3.+0.k 7.+0.j 32.+0.l]"
      ],
      "metadata": {
        "id": "RNceRZhNfEK_"
      }
    },
    {
      "cell_type": "code",
      "source": [
        "import numpy as np\n",
        "a = np.array([3, 7, 32], dtype = complex)\n",
        "print(a)"
      ],
      "metadata": {
        "colab": {
          "base_uri": "https://localhost:8080/"
        },
        "id": "vy2B6f3yex34",
        "outputId": "0dc52582-3562-4627-897d-6a48ba75cd7d"
      },
      "execution_count": 14,
      "outputs": [
        {
          "output_type": "stream",
          "name": "stdout",
          "text": [
            "[ 3.+0.j  7.+0.j 32.+0.j]\n"
          ]
        }
      ]
    },
    {
      "cell_type": "code",
      "source": [
        "# prompt: explain dtype = complex\n",
        "\n",
        "import numpy as np\n",
        "# The dtype = complex parameter in the NumPy array() function\n",
        "# specifies that the data type of the array elements should be complex numbers.\n",
        "# Complex numbers are numbers that have both a real and an imaginary component.\n",
        "# They are written in the form a + bj, where a is the real component, b is the imaginary component, and j is the imaginary unit (√-1).\n",
        "\n",
        "# When you create a NumPy array with dtype = complex, each element in the array will be a complex number.\n",
        "# For example, the following code creates a NumPy array with three complex numbers:\n",
        "\n",
        "a = np.array([3, 7, 32], dtype = complex)\n",
        "print(a)\n",
        "\n",
        "# This will print the following output:\n",
        "\n",
        "# [ 3. +0.j  7. +0.j 32. +0.j]\n",
        "\n",
        "# Each element in the array is a complex number with a real component and an imaginary component.\n",
        "# The real component is the number before the + sign, and the imaginary component is the number after the + sign.\n",
        "# The j indicates that the imaginary component is the square root of -1.\n"
      ],
      "metadata": {
        "id": "wzvbW73LfVCI"
      },
      "execution_count": null,
      "outputs": []
    },
    {
      "cell_type": "markdown",
      "source": [
        "7) How to replace all values greater than a given value with a given cutoff? For example: In array ‘a’, replace all values greater than 30 to 30 and less than 10 to 10.\n",
        "Input: np.random.seed(100) a = np.random.uniform(1,50, 20)\n",
        "\n",
        "A.Both of the above\n",
        "\n",
        "B.np.clip(a, a_min=10, a_max=30)\n",
        "\n",
        "C.np.where(a < 10, 10, np.where(a > 30, 30, a))\n",
        "\n",
        "D.None of the above\n"
      ],
      "metadata": {
        "id": "HrglyI52frWe"
      }
    },
    {
      "cell_type": "code",
      "source": [
        " np.random.seed(100)\n",
        " a = np.random.uniform(1,50, 20)\n",
        " print(a)\n",
        " b=np.where(a < 10, 10, np.where(a > 30, 30, a))\n",
        " print(b)"
      ],
      "metadata": {
        "colab": {
          "base_uri": "https://localhost:8080/"
        },
        "id": "j5609yT6f1RH",
        "outputId": "a56fbffa-8e36-4868-8cf7-dd42b2e8eccd"
      },
      "execution_count": 19,
      "outputs": [
        {
          "output_type": "stream",
          "name": "stdout",
          "text": [
            "[27.62684215 14.64009987 21.80136195 42.39403048  1.23122395  6.95688692\n",
            " 33.86670515 41.466785    7.69862289 29.17957314 44.67477576 11.25090398\n",
            " 10.08108276  6.31046763 11.76517714 48.95256545 40.77247431  9.42510962\n",
            " 40.99501269 14.42961361]\n",
            "[27.62684215 14.64009987 21.80136195 30.         10.         10.\n",
            " 30.         30.         10.         29.17957314 30.         11.25090398\n",
            " 10.08108276 10.         11.76517714 30.         30.         10.\n",
            " 30.         14.42961361]\n"
          ]
        }
      ]
    },
    {
      "cell_type": "markdown",
      "source": [
        "8) For the given arrays, array1 and array2, if we stack the two arrays row wise, what will be the output?\n",
        "\n",
        "array1 = np.array([[1,2],[3,4]])\n",
        "\n",
        "array2 = np.array([[1,2],[3,4],[5,6],[7,8],[9,10]])\n",
        "\n",
        "A.array([[ 1, 2, 3, 4],[ 1, 2, 3, 4],[ 5, 6, 7, 8],[ 9, 10]])\n",
        "\n",
        "B.None of the above\n",
        "\n",
        "C.array([[ 1, 2, 3, 4, 1], [2, 3, 4, 5, 6],[ 7, 8, 9, 10]])\n",
        "\n",
        "D.array([[ 1, 2],[ 3, 4],[ 1, 2],[ 3, 4],[ 5, 6],[ 7, 8],[ 9, 10]])\n"
      ],
      "metadata": {
        "id": "wptL0KudgY20"
      }
    },
    {
      "cell_type": "code",
      "source": [
        "array1 = np.array([[1,2],[3,4]])\n",
        "array2 = np.array([[1,2],[3,4],[5,6],[7,8],[9,10]])\n",
        "print(array1)\n",
        "print(array2 )"
      ],
      "metadata": {
        "colab": {
          "base_uri": "https://localhost:8080/"
        },
        "id": "Szf1w4HpgYji",
        "outputId": "0eb39069-863f-42ea-89c9-05cb4f5966cb"
      },
      "execution_count": 21,
      "outputs": [
        {
          "output_type": "stream",
          "name": "stdout",
          "text": [
            "[[1 2]\n",
            " [3 4]]\n",
            "[[ 1  2]\n",
            " [ 3  4]\n",
            " [ 5  6]\n",
            " [ 7  8]\n",
            " [ 9 10]]\n"
          ]
        }
      ]
    },
    {
      "cell_type": "markdown",
      "source": [
        "9) For a given numpy array, how are you going to insert a new value at the specified position?\n",
        "\n",
        "array = np.array([10,3,1,203,404,204,20,302,30,402,192])  \n",
        "\n",
        "Elem_to_be_inserted = [1,2,3,4]  \n",
        "\n",
        "The position to be inserted at = before 404\n",
        "\n",
        "\n",
        "A.numpy.insert(array2, 404, array2)\n",
        "\n",
        "B.numpy.insert(array1, np.where(404), array2)\n",
        "\n",
        "\n",
        "**C.numpy.insert(array1, 4, array2)**\n",
        "\n",
        "D.numpy.insert(array2, np.index(404), array2)"
      ],
      "metadata": {
        "id": "LNtilxzhg0md"
      }
    },
    {
      "cell_type": "code",
      "source": [
        "array = np.array([10,3,1,203,404,204,20,302,30,402,192])\n",
        "\n",
        "Elem_to_be_inserted = [1,2,3,4]\n",
        "print(array)\n",
        "print(Elem_to_be_inserted)\n",
        "index = np.where(array == 404)[0][0]\n",
        "print(index)\n",
        "array1=np.insert(array,  index, Elem_to_be_inserted)\n",
        "print(array1)"
      ],
      "metadata": {
        "colab": {
          "base_uri": "https://localhost:8080/"
        },
        "id": "AM1hvaKsg1Uz",
        "outputId": "4f86ff9d-f628-40b7-f526-9f86f51f1f6e"
      },
      "execution_count": 38,
      "outputs": [
        {
          "output_type": "stream",
          "name": "stdout",
          "text": [
            "[ 10   3   1 203 404 204  20 302  30 402 192]\n",
            "[1, 2, 3, 4]\n",
            "4\n",
            "[ 10   3   1 203   1   2   3   4 404 204  20 302  30 402 192]\n"
          ]
        }
      ]
    },
    {
      "cell_type": "markdown",
      "source": [
        "10) Create a 3x3 matrix using numpy, and all the values of the matrix must be a constant k.\n",
        "\n",
        "\n",
        "A. numpy.random.random((3,3), ‘k’)\n",
        "\n",
        "**B. numpy.full((3,3), ‘k’)**\n",
        "\n",
        "C. numpy.eye(‘k’)\n",
        "\n",
        "D. numpy.ones(3,3)"
      ],
      "metadata": {
        "id": "GkQ1odRaiff7"
      }
    },
    {
      "cell_type": "code",
      "source": [
        "np.full((3,3), 'K')"
      ],
      "metadata": {
        "colab": {
          "base_uri": "https://localhost:8080/"
        },
        "id": "MOMDL2GEiJUP",
        "outputId": "81793ada-c17c-4f1a-841e-ad9614dbe1fe"
      },
      "execution_count": 43,
      "outputs": [
        {
          "output_type": "execute_result",
          "data": {
            "text/plain": [
              "array([['K', 'K', 'K'],\n",
              "       ['K', 'K', 'K'],\n",
              "       ['K', 'K', 'K']], dtype='<U1')"
            ]
          },
          "metadata": {},
          "execution_count": 43
        }
      ]
    },
    {
      "cell_type": "markdown",
      "source": [
        "11) For the given python code that implements bubble sort, what will be the output for the given numpy array.\n",
        "\n",
        " def bub_sort(array):\n",
        "\n",
        " for i in range(0, len(array)):\n",
        "\n",
        "  for j in range(0, len(array) - i - 1):\n",
        "\n",
        "    if array[j] < array[j + 1]:\n",
        "\n",
        "      temp = array[j]\n",
        "\n",
        "      array[j] = array[j + 1]\n",
        "\n",
        "      array[j+1] = temp\n",
        "\n",
        "    return array\n",
        "\n",
        "my_array = numpy.array([20,14,25,16,45,60,12,9])\n",
        "\n",
        "\n",
        "\n",
        "**A. array([ 9, 12, 14, 16, 20, 25, 45, 60])**\n",
        "\n",
        "B.array([60, 45, 20, 25, 16, 14, 12, 9])\n",
        "\n",
        "C.array([60, 45, 25, 20, 16, 14, 12, 9])\n",
        "\n",
        "D.array([ 9, 12, 16, 14, 20, 25, 45, 60])\n"
      ],
      "metadata": {
        "id": "0gX3rat4jk_I"
      }
    },
    {
      "cell_type": "code",
      "source": [
        "def bub_sort(array):\n",
        " for i in range(0, len(array)):\n",
        "  for j in range(0, len(array) - i - 1):\n",
        "    if array[j] < array[j + 1]:\n",
        "      temp = array[j]\n",
        "      array[j] = array[j + 1]\n",
        "      array[j+1] = temp\n",
        "    return array\n",
        "my_array = np.array([20,14,25,16,45,60,12,9])\n",
        "bub_sort(my_array)"
      ],
      "metadata": {
        "colab": {
          "base_uri": "https://localhost:8080/"
        },
        "id": "KmuZ5cpHjOrd",
        "outputId": "87b448be-5739-4743-d9eb-d4b0b89ba689"
      },
      "execution_count": 52,
      "outputs": [
        {
          "output_type": "execute_result",
          "data": {
            "text/plain": [
              "array([20, 14, 25, 16, 45, 60, 12,  9])"
            ]
          },
          "metadata": {},
          "execution_count": 52
        }
      ]
    },
    {
      "cell_type": "code",
      "source": [
        "# prompt: what is bubble sort\n",
        "\n",
        "# Bubble Sort is a simple sorting algorithm that repeatedly steps through a list,\n",
        "# compares adjacent elements and swaps them if they are in the wrong order.\n",
        "# The pass through the list is repeated until the list is sorted.\n",
        "\n",
        "import numpy as np\n",
        "def bubble_sort(list_):\n",
        "  n = len(list_)\n",
        "  for i in range(n):\n",
        "    swapped = False\n",
        "    for j in range(0, n-i-1):\n",
        "      if list_[j] > list_[j+1]:\n",
        "        list_[j], list_[j+1] = list_[j+1], list_[j]\n",
        "        swapped = True\n",
        "    if swapped == False:\n",
        "      break\n",
        "  return list_\n",
        "\n",
        "my_array = np.array([20,14,25,16,45,60,12,9])\n",
        "bubble_sort(my_array)"
      ],
      "metadata": {
        "colab": {
          "base_uri": "https://localhost:8080/"
        },
        "id": "nghOLoidkSZ3",
        "outputId": "c56c3380-d656-4bd0-c337-3f6090059740"
      },
      "execution_count": 53,
      "outputs": [
        {
          "output_type": "execute_result",
          "data": {
            "text/plain": [
              "array([20, 14, 25, 16, 45, 60, 12,  9])"
            ]
          },
          "metadata": {},
          "execution_count": 53
        }
      ]
    },
    {
      "cell_type": "markdown",
      "source": [
        "12) For a given numpy array of the shape (2,5) ,How will you reshape the array in the shape (5,2).\n",
        "\n",
        "A.numpy.arange(5,2)\n",
        "\n",
        "**B.numpy.reshape(5,2)**\n",
        "\n",
        "C.numpy.shape(5,2)\n",
        "\n",
        "D.numpy.reshape((2,5) == (5,2))\n"
      ],
      "metadata": {
        "id": "y9J3N4Nrlnxh"
      }
    },
    {
      "cell_type": "code",
      "source": [
        "array=np.full((2,5), 1)\n",
        "print(array)\n",
        "array1=np.reshape(array, (5,2))\n",
        "print(array1)"
      ],
      "metadata": {
        "colab": {
          "base_uri": "https://localhost:8080/"
        },
        "id": "yLq32q5Vk7LT",
        "outputId": "c585bf97-5ec4-4a33-e264-14f2ecd35683"
      },
      "execution_count": 56,
      "outputs": [
        {
          "output_type": "stream",
          "name": "stdout",
          "text": [
            "[[1 1 1 1 1]\n",
            " [1 1 1 1 1]]\n",
            "[[1 1]\n",
            " [1 1]\n",
            " [1 1]\n",
            " [1 1]\n",
            " [1 1]]\n"
          ]
        }
      ]
    },
    {
      "cell_type": "markdown",
      "source": [
        "13) What will be the shape of the sample numpy array after flattening it?\n",
        "\n",
        "Sample = numpy.array([[1,2],[3,4],[5,6],[7,8]])\n",
        "\n",
        "A.array([1, 2], [3, 4], [5, 6], [7, 8])\n",
        "\n",
        "**B.array([1, 2, 3, 4, 5, 6, 7, 8])**\n",
        "\n",
        "C.None of the above\n",
        "\n",
        "D.array([1], [2], [3], [4], [5], [6], [7], [8])"
      ],
      "metadata": {
        "id": "anA5TCUnl-yu"
      }
    },
    {
      "cell_type": "code",
      "source": [
        "Sample = np.array([[1,2],[3,4],[5,6],[7,8]])\n",
        "print(Sample)\n",
        "print(Sample.flatten())"
      ],
      "metadata": {
        "colab": {
          "base_uri": "https://localhost:8080/"
        },
        "id": "REcNTnn0l_rD",
        "outputId": "eb515772-455d-4b36-a2cc-2d4274bc532d"
      },
      "execution_count": 59,
      "outputs": [
        {
          "output_type": "stream",
          "name": "stdout",
          "text": [
            "[[1 2]\n",
            " [3 4]\n",
            " [5 6]\n",
            " [7 8]]\n",
            "[1 2 3 4 5 6 7 8]\n"
          ]
        }
      ]
    },
    {
      "cell_type": "markdown",
      "source": [
        "14) In the given array, how can we get the following\n",
        "output = array([2, 5, 8]).\n",
        "Sample = numpy.array([[1,2,3],[4,5,6],[7,8,9],[10,11,12],[13,14,15]])\n",
        "\n",
        "A.array[0:3][1]\n",
        "\n",
        "**B.array[0:3, 1]**\n",
        "\n",
        "C.array[[0:3], [1]]\n",
        "\n",
        "D.None of the above"
      ],
      "metadata": {
        "id": "1h-cVALUmZcR"
      }
    },
    {
      "cell_type": "code",
      "source": [
        "Sample = np.array([[1,2,3],[4,5,6],[7,8,9],[10,11,12],[13,14,15]])\n",
        "print(Sample)\n",
        "print(Sample[0:3, 1])"
      ],
      "metadata": {
        "colab": {
          "base_uri": "https://localhost:8080/"
        },
        "id": "lqkKS1qfmaR3",
        "outputId": "fa1873ac-43f7-498f-ac72-128a3a33acbf"
      },
      "execution_count": 61,
      "outputs": [
        {
          "output_type": "stream",
          "name": "stdout",
          "text": [
            "[[ 1  2  3]\n",
            " [ 4  5  6]\n",
            " [ 7  8  9]\n",
            " [10 11 12]\n",
            " [13 14 15]]\n",
            "[2 5 8]\n"
          ]
        }
      ]
    },
    {
      "cell_type": "markdown",
      "source": [
        "15) Given two numpy arrays, we will perform Horizontally stack the given arrays array1 and array2. What will be the output of the above operation? The sample arrays are as follows.\n",
        "\n",
        "Array1 = numpy.arange(20,2)\n",
        "\n",
        "Array2 = numpy.array([1,2,3,4,5,6,7,8,9,10])\n",
        "\n",
        "\n",
        "A. array([ 1, 3, 5, 7, 9, 11, 13, 15, 17, 19, 1, 2, 3, 4, 5, 6, 7, 8, 9, 10])\n",
        "\n",
        "**B.None of the above**\n",
        "\n",
        "C.array([[ 1, 3, 5, 7, 9, 11, 13, 15, 17, 19], [1, 2, 3, 4, 5, 6, 7, 8, 9, 10]])\n",
        "\n",
        "D.array([[ 1, 3, 5, 7, 9, 11, 13, 15, 17, 19], [1, 2, 3, 4, 5, 6, 7, 8, 9, 10]])"
      ],
      "metadata": {
        "id": "H_YXa8Mqm8x_"
      }
    },
    {
      "cell_type": "code",
      "source": [
        "Array1 = np.arange(20,2)\n",
        "Array2 = np.array([1,2,3,4,5,6,7,8,9,10])\n",
        "print('Array1')\n",
        "print(Array1)\n",
        "print('Array2')\n",
        "print(Array2)\n",
        "print('Array hstack')\n",
        "print(np.hstack((Array1, Array2)))\n"
      ],
      "metadata": {
        "colab": {
          "base_uri": "https://localhost:8080/"
        },
        "id": "qfn2Q5Pkm9vw",
        "outputId": "a21ef7ec-f3fb-4c8c-f4e8-c61eca1a8f89"
      },
      "execution_count": 66,
      "outputs": [
        {
          "output_type": "stream",
          "name": "stdout",
          "text": [
            "Array1\n",
            "[]\n",
            "Array2\n",
            "[ 1  2  3  4  5  6  7  8  9 10]\n",
            "Array hstack\n",
            "[ 1  2  3  4  5  6  7  8  9 10]\n"
          ]
        }
      ]
    },
    {
      "cell_type": "markdown",
      "source": [
        "16) For the given arrays, array1 and array2, if we stack the two arrays column wise, what will be the output?\n",
        "\n",
        "array1 = np.array([[1,2],[3,4]])\n",
        "\n",
        "array2 = np.array([[5,6],[7,8]])\n",
        "\n",
        "A.array([[1, 2, 5, 6 ,3, 4, 7, 8]])\n",
        "\n",
        "**B.array([[1, 2, 5, 6],[3, 4, 7, 8]])**\n",
        "\n",
        "C.None of the above\n",
        "\n",
        "D.array([[1, 2], [5, 6],[3, 4], [7, 8]])"
      ],
      "metadata": {
        "id": "R2GBKDWCnr5r"
      }
    },
    {
      "cell_type": "code",
      "source": [
        "array1 = np.array([[1,2],[3,4]])\n",
        "array2 = np.array([[5,6],[7,8]])\n",
        "print(array1)\n",
        "print(array2)\n",
        "print(np.column_stack((array1, array2)))"
      ],
      "metadata": {
        "colab": {
          "base_uri": "https://localhost:8080/"
        },
        "id": "YAr3KMC_nspx",
        "outputId": "9d609f2b-faa2-4cf6-95c4-4b97266515d3"
      },
      "execution_count": 68,
      "outputs": [
        {
          "output_type": "stream",
          "name": "stdout",
          "text": [
            "[[1 2]\n",
            " [3 4]]\n",
            "[[5 6]\n",
            " [7 8]]\n",
            "[[1 2 5 6]\n",
            " [3 4 7 8]]\n"
          ]
        }
      ]
    },
    {
      "cell_type": "markdown",
      "source": [
        "17) Given two vectors A and B, find the cross product between the two vectors.\n",
        "\n",
        "A = numpy.array([[4],[12],[29]])\n",
        "\n",
        "B = numpy.array([[13],[21],[4]])\n",
        "\n",
        "A.array([[-560 360 -71]])\n",
        "\n",
        "B.array([[-561 361 -72]])\n",
        "\n",
        "C.array([[-561 360 -72]])\n",
        "\n",
        "D.array([[-555 361 -72]])"
      ],
      "metadata": {
        "id": "tIKglXuZoMvK"
      }
    },
    {
      "cell_type": "code",
      "source": [
        "A = np.array([[4],[12],[29]])\n",
        "B = np.array([[13],[21],[4]])\n",
        "print(A)\n",
        "print(B)\n",
        "print(np.cross(A, B))\n",
        "#"
      ],
      "metadata": {
        "colab": {
          "base_uri": "https://localhost:8080/",
          "height": 436
        },
        "id": "nEsvnbV_oNhL",
        "outputId": "77765834-4aa7-4165-a11a-3b21aa0779d2"
      },
      "execution_count": 85,
      "outputs": [
        {
          "output_type": "stream",
          "name": "stdout",
          "text": [
            "[[ 4]\n",
            " [12]\n",
            " [29]]\n",
            "[[13]\n",
            " [21]\n",
            " [ 4]]\n"
          ]
        },
        {
          "output_type": "error",
          "ename": "ValueError",
          "evalue": "incompatible dimensions for cross product\n(dimension must be 2 or 3)",
          "traceback": [
            "\u001b[0;31m---------------------------------------------------------------------------\u001b[0m",
            "\u001b[0;31mValueError\u001b[0m                                Traceback (most recent call last)",
            "\u001b[0;32m<ipython-input-85-6dbab8462183>\u001b[0m in \u001b[0;36m<cell line: 5>\u001b[0;34m()\u001b[0m\n\u001b[1;32m      3\u001b[0m \u001b[0mprint\u001b[0m\u001b[0;34m(\u001b[0m\u001b[0mA\u001b[0m\u001b[0;34m)\u001b[0m\u001b[0;34m\u001b[0m\u001b[0;34m\u001b[0m\u001b[0m\n\u001b[1;32m      4\u001b[0m \u001b[0mprint\u001b[0m\u001b[0;34m(\u001b[0m\u001b[0mB\u001b[0m\u001b[0;34m)\u001b[0m\u001b[0;34m\u001b[0m\u001b[0;34m\u001b[0m\u001b[0m\n\u001b[0;32m----> 5\u001b[0;31m \u001b[0mprint\u001b[0m\u001b[0;34m(\u001b[0m\u001b[0mnp\u001b[0m\u001b[0;34m.\u001b[0m\u001b[0mcross\u001b[0m\u001b[0;34m(\u001b[0m\u001b[0mA\u001b[0m\u001b[0;34m,\u001b[0m \u001b[0mB\u001b[0m\u001b[0;34m)\u001b[0m\u001b[0;34m)\u001b[0m\u001b[0;34m\u001b[0m\u001b[0;34m\u001b[0m\u001b[0m\n\u001b[0m\u001b[1;32m      6\u001b[0m \u001b[0;31m#\u001b[0m\u001b[0;34m\u001b[0m\u001b[0;34m\u001b[0m\u001b[0m\n",
            "\u001b[0;32m/usr/local/lib/python3.10/dist-packages/numpy/core/numeric.py\u001b[0m in \u001b[0;36mcross\u001b[0;34m(a, b, axisa, axisb, axisc, axis)\u001b[0m\n\u001b[1;32m   1594\u001b[0m            \"(dimension must be 2 or 3)\")\n\u001b[1;32m   1595\u001b[0m     \u001b[0;32mif\u001b[0m \u001b[0ma\u001b[0m\u001b[0;34m.\u001b[0m\u001b[0mshape\u001b[0m\u001b[0;34m[\u001b[0m\u001b[0;34m-\u001b[0m\u001b[0;36m1\u001b[0m\u001b[0;34m]\u001b[0m \u001b[0;32mnot\u001b[0m \u001b[0;32min\u001b[0m \u001b[0;34m(\u001b[0m\u001b[0;36m2\u001b[0m\u001b[0;34m,\u001b[0m \u001b[0;36m3\u001b[0m\u001b[0;34m)\u001b[0m \u001b[0;32mor\u001b[0m \u001b[0mb\u001b[0m\u001b[0;34m.\u001b[0m\u001b[0mshape\u001b[0m\u001b[0;34m[\u001b[0m\u001b[0;34m-\u001b[0m\u001b[0;36m1\u001b[0m\u001b[0;34m]\u001b[0m \u001b[0;32mnot\u001b[0m \u001b[0;32min\u001b[0m \u001b[0;34m(\u001b[0m\u001b[0;36m2\u001b[0m\u001b[0;34m,\u001b[0m \u001b[0;36m3\u001b[0m\u001b[0;34m)\u001b[0m\u001b[0;34m:\u001b[0m\u001b[0;34m\u001b[0m\u001b[0;34m\u001b[0m\u001b[0m\n\u001b[0;32m-> 1596\u001b[0;31m         \u001b[0;32mraise\u001b[0m \u001b[0mValueError\u001b[0m\u001b[0;34m(\u001b[0m\u001b[0mmsg\u001b[0m\u001b[0;34m)\u001b[0m\u001b[0;34m\u001b[0m\u001b[0;34m\u001b[0m\u001b[0m\n\u001b[0m\u001b[1;32m   1597\u001b[0m \u001b[0;34m\u001b[0m\u001b[0m\n\u001b[1;32m   1598\u001b[0m     \u001b[0;31m# Create the output array\u001b[0m\u001b[0;34m\u001b[0m\u001b[0;34m\u001b[0m\u001b[0m\n",
            "\u001b[0;31mValueError\u001b[0m: incompatible dimensions for cross product\n(dimension must be 2 or 3)"
          ]
        }
      ]
    },
    {
      "cell_type": "markdown",
      "source": [
        "18) Given two vectors A and B, find the correlation coefficient of the following vectors.\n",
        "\n",
        "A = numpy.array([1,3,5,7,9,11,13,15,17,19,21,23,25])\n",
        "\n",
        "B = numpy.array([0,2,4,6,8,10,12,14,16,18,20, 22, 24])\n",
        "\n",
        "A.array([[1., 1.],[0., 1.]])\n",
        "\n",
        "B.array([[0., 1.],[1., 1.]])\n",
        "\n",
        "**C.array([[1., 1.],[1., 1.]])**\n",
        "\n",
        "D.array([[1., 0.],[1., 1.]])"
      ],
      "metadata": {
        "id": "AQZypIpHrfPm"
      }
    },
    {
      "cell_type": "code",
      "source": [
        "A = np.array([1,3,5,7,9,11,13,15,17,19,21,23,25])\n",
        "B = np.array([0,2,4,6,8,10,12,14,16,18,20, 22, 24])\n",
        "print(A)\n",
        "print(B)\n",
        "print(np.corrcoef(A, B))\n",
        "#"
      ],
      "metadata": {
        "colab": {
          "base_uri": "https://localhost:8080/"
        },
        "id": "W4yDDRVgozle",
        "outputId": "cf3db73f-b896-42cd-b4f6-5877e92eb0da"
      },
      "execution_count": 88,
      "outputs": [
        {
          "output_type": "stream",
          "name": "stdout",
          "text": [
            "[ 1  3  5  7  9 11 13 15 17 19 21 23 25]\n",
            "[ 0  2  4  6  8 10 12 14 16 18 20 22 24]\n",
            "[[1. 1.]\n",
            " [1. 1.]]\n"
          ]
        }
      ]
    },
    {
      "cell_type": "markdown",
      "source": [
        "19) Create a nested numpy array from a given dictionary data.\n",
        "\n",
        "sample = {1: [1,2], 2: [[1],[2]], 3: [[1,2], [3,4], [4,5]], 4: [1], 5: [1,2,3,4,5]}\n",
        "\n",
        "A.array([[1, list([1, 2])], [2, list([[1], [2]])], [3, list([[1, 2], [3, 4], [4, 5]])], [4, list([1])], [5, list([1, 2, 3, 10, 5])]], dtype=object)\n",
        "\n",
        "**B.array([[1, list([1, 2])], [2, list([[1], [2]])], [3, list([[1, 2], [3, 4], [4, 5]])], [4, list([1])], [5, list([1, 2, 3, 4, 5])]], dtype=object)**\n",
        "\n",
        "C.array([[1, list([1, 2])], [2, list([[1], [2]])], [3, list([[1, 2], [1, 4], [4, 5]])], [4, list([1])], [5, list([1, 2, 3, 4, 5])]], dtype=object)\n",
        "\n",
        "D.array([[1, list([1, 1])], [2, list([[1], [2]])], [3, list([[1, 2], [3, 4], [4, 5]])], [4, list([1])], [5, list([1, 2, 3, 4, 5])]], dtype=object)"
      ],
      "metadata": {
        "id": "3cKJd_s4sQ0b"
      }
    },
    {
      "cell_type": "code",
      "source": [
        "sample = {1: [1,2], 2: [[1],[2]], 3: [[1,2], [3,4], [4,5]], 4: [1], 5: [1,2,3,4,5]}\n",
        "print(sample)\n",
        "print(np.array(sample))"
      ],
      "metadata": {
        "colab": {
          "base_uri": "https://localhost:8080/"
        },
        "id": "BeNTS0KdsRQ3",
        "outputId": "49062298-4baf-4ef3-eaf3-a6a6b2e990dc"
      },
      "execution_count": 89,
      "outputs": [
        {
          "output_type": "stream",
          "name": "stdout",
          "text": [
            "{1: [1, 2], 2: [[1], [2]], 3: [[1, 2], [3, 4], [4, 5]], 4: [1], 5: [1, 2, 3, 4, 5]}\n",
            "{1: [1, 2], 2: [[1], [2]], 3: [[1, 2], [3, 4], [4, 5]], 4: [1], 5: [1, 2, 3, 4, 5]}\n"
          ]
        }
      ]
    },
    {
      "cell_type": "markdown",
      "source": [
        "20) A 2-dimensional array with 3 rows and 3 columns containing random numbers from 1 to 9 is given as -\n",
        "arr1= np.array([[3,2,1],[6,4,5],[8,7,9]])\n",
        "\n",
        "Find the difference between the maximum element across the columns and the minimum element across the rows.\n",
        "\n",
        "A.[7 1 2]\n",
        "\n",
        "B.[7 3 2]\n",
        "\n",
        "C.[8 3 2]\n",
        "\n",
        "D.[7 3 1]"
      ],
      "metadata": {
        "id": "F9rn9EUQtCqc"
      }
    },
    {
      "cell_type": "code",
      "source": [
        "arr1= np.array([[3,2,1],[6,4,5],[8,7,9]])\n",
        "\n",
        "max_element_cols = np.max(arr1, axis=0)  # Maximum element across columns\n",
        "min_element_rows = np.min(arr1, axis=1)  # Minimum element across rows\n",
        "print(arr1)\n",
        "difference = max_element_cols - min_element_rows\n",
        "print(max_element_cols)\n",
        "print(min_element_rows  )\n",
        "print(difference)  # Output: [7 3 2]"
      ],
      "metadata": {
        "colab": {
          "base_uri": "https://localhost:8080/"
        },
        "id": "g9FlxFLltkvg",
        "outputId": "126bfa60-f4cd-46c9-e4a2-0d4a45c7405d"
      },
      "execution_count": 96,
      "outputs": [
        {
          "output_type": "stream",
          "name": "stdout",
          "text": [
            "[[3 2 1]\n",
            " [6 4 5]\n",
            " [8 7 9]]\n",
            "[8 7 9]\n",
            "[1 4 7]\n",
            "[7 3 2]\n"
          ]
        }
      ]
    },
    {
      "cell_type": "markdown",
      "source": [
        "21) The command to find the number of elements in the following array “N” is\n",
        "N=np.array([ 99 , None , 49 , Nan, str , np.nan ,63 , 50 ,( ) ,[ ] ,{ }, ....]).\n",
        "\n",
        "\n",
        "**A.len(N)**\n",
        "\n",
        "B.N.count()\n",
        "\n",
        "**C.np.size(N)**\n",
        "\n",
        "D.N.size()"
      ],
      "metadata": {
        "id": "jPA-iZrDvQKI"
      }
    },
    {
      "cell_type": "code",
      "source": [
        "N=np.array([ 99 , None , 49 , np.nan, str , np.nan ,63 , 50 ])\n",
        "print(len(N))\n",
        "print(np.size(N))\n"
      ],
      "metadata": {
        "colab": {
          "base_uri": "https://localhost:8080/"
        },
        "id": "nyrRp2JNuf7Q",
        "outputId": "a8f349b1-f2e1-4973-adff-96acf95fae2b"
      },
      "execution_count": 107,
      "outputs": [
        {
          "output_type": "stream",
          "name": "stdout",
          "text": [
            "8\n",
            "8\n"
          ]
        }
      ]
    },
    {
      "cell_type": "markdown",
      "source": [
        "22) The output of the code given below is:\n",
        "\n",
        "List =[3,9,12,15]\n",
        "\n",
        "a=(x**3 for x in list)\n",
        "\n",
        "print(next(a))\n",
        "\n",
        "\n",
        "A.81\n",
        "\n",
        "B.27\n",
        "\n",
        "C.9\n",
        "\n",
        "D.12"
      ],
      "metadata": {
        "id": "j1319wOIwT6M"
      }
    },
    {
      "cell_type": "code",
      "source": [
        "List =[3,9,12,15]\n",
        "a=(x**3 for x in List)\n",
        "print(next(a))\n"
      ],
      "metadata": {
        "colab": {
          "base_uri": "https://localhost:8080/"
        },
        "id": "_rqse4xmwfKZ",
        "outputId": "1a383afd-cbc5-4662-87fd-66cd70c3b591"
      },
      "execution_count": 109,
      "outputs": [
        {
          "output_type": "stream",
          "name": "stdout",
          "text": [
            "27\n"
          ]
        }
      ]
    },
    {
      "cell_type": "markdown",
      "source": [
        "23) Create a sequence number from 13 to 22 and increment by 4 .What is the index element 17?\n",
        "0\n",
        "3\n",
        "2\n",
        "1"
      ],
      "metadata": {
        "id": "fKlhr0-4w3lh"
      }
    },
    {
      "cell_type": "code",
      "source": [
        "import numpy as np\n",
        "\n",
        "sequence = np.arange(13, 23, 4)\n",
        "print(sequence)\n",
        "index_17 = np.where(sequence == 17)[0][0]\n",
        "print(index_17)\n"
      ],
      "metadata": {
        "colab": {
          "base_uri": "https://localhost:8080/"
        },
        "id": "kRbHXDeaw4Qi",
        "outputId": "746e5eb1-1560-4fe9-ea32-1d79bfaf1e9d"
      },
      "execution_count": 111,
      "outputs": [
        {
          "output_type": "stream",
          "name": "stdout",
          "text": [
            "[13 17 21]\n",
            "1\n"
          ]
        }
      ]
    },
    {
      "cell_type": "markdown",
      "source": [
        "24) Consider a variable job=”analyst”.Which of the following expression(s) will retrieve the last from the string?\n",
        "job[7]\n",
        "JOB[LEN(JOB)-1]\n",
        "job[5:6]\n",
        "JOB[-1]"
      ],
      "metadata": {
        "id": "CcfR8qAexNX8"
      }
    },
    {
      "cell_type": "code",
      "source": [
        "JOB=['A','N','A','L','Y','S','T']\n",
        "print(JOB[-1])"
      ],
      "metadata": {
        "colab": {
          "base_uri": "https://localhost:8080/"
        },
        "id": "CcyGIEUSxOJM",
        "outputId": "a89cd5b6-403c-480c-cf9a-15aa1942dd89"
      },
      "execution_count": 119,
      "outputs": [
        {
          "output_type": "stream",
          "name": "stdout",
          "text": [
            "T\n"
          ]
        }
      ]
    },
    {
      "cell_type": "markdown",
      "source": [
        "25) Given a NumPy array ,\n",
        "\n",
        "arr=np.array( [ [6,9,12] , [8,3,7] , [9,8,0] ] )\n",
        "\n",
        "Find the correct command from the following options to get an output array as [27 18 17]?\n",
        "\n",
        "A.np.sum(arr,axis=1)\n",
        "\n",
        "B.np.sum(arr,axis=0)\n",
        "\n",
        "C.None of the options are correct\n",
        "\n",
        "D.np.sum(arr)"
      ],
      "metadata": {
        "id": "LQjzvrrAy0oK"
      }
    },
    {
      "cell_type": "code",
      "source": [
        "arr=np.array( [ [6,9,12] , [8,3,7] , [9,8,0] ] )\n",
        "print(arr)\n",
        "print(np.sum(arr,axis=1))\n"
      ],
      "metadata": {
        "colab": {
          "base_uri": "https://localhost:8080/"
        },
        "id": "aTHP73KJy_Aq",
        "outputId": "7c16b231-8521-4aa3-ee76-c900407c11de"
      },
      "execution_count": 122,
      "outputs": [
        {
          "output_type": "stream",
          "name": "stdout",
          "text": [
            "[[ 6  9 12]\n",
            " [ 8  3  7]\n",
            " [ 9  8  0]]\n",
            "[23 20 19]\n"
          ]
        }
      ]
    }
  ]
}